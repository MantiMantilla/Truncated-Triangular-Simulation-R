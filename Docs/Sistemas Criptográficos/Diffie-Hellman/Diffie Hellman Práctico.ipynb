{
 "cells": [
  {
   "cell_type": "markdown",
   "metadata": {},
   "source": [
    "# Práctica de Diffie-Hellman\n",
    "\n",
    "## Motivación\n",
    "\n",
    "Hemos visto en terminos generales el funcionamiento del protocolo y pequeñas alteraciones que pueden hacerse para mejorar su seguridad. Vimos también las expresiones matemáticas, así como demostraciones representativas de las operaciones y pasos en el algoritmo. Llegó el momento de ver el procedimiento en acción. A continuación, una implementación en Python del procedimiento para el intercambio de llaves.\n",
    "\n",
    "## Primeros conceptos\n",
    "\n",
    "Definiremos distintas clases representativas de los agentes y aspectos más importantes del escenario. Una clase con la que instanciar a `Alice` y a `Bob`. Seguiremos el procedimiento planteado en la ilustración con las especificaciones matemáticas de la teoría.\n",
    "\n",
    "## Intercambio de llaves\n",
    "\n",
    "El proceso de encripción debe ocurrir entre dos partes o dos puntos terminales en la conexión. De forma que podemos tomar esta como nuestra medida más general y asignarle atributos y métodos según los necesitamos."
   ]
  },
  {
   "cell_type": "code",
   "execution_count": 23,
   "metadata": {
    "scrolled": true
   },
   "outputs": [],
   "source": [
    "# La clase Partido tendría dos instancias y guarda los secretos propios.\n",
    "# La información disponible al publico podemos guardarla en variables globales.\n",
    "class Partido(object):\n",
    "    # Podemos inicializar cada partido con una llave privada.\n",
    "    def __init__(self, private_key, important_message):\n",
    "        # Definimos la llave privada como una variable protegida\n",
    "        self.__private_key = private_key\n",
    "        \n",
    "        #Definimos el mensaje que Alice va a querer enviar a bob.\n",
    "        self.__message = important_message\n",
    "        \n",
    "        # Por lo pronto no hemos establecido el secret compartido.\n",
    "        self.__shared_key = None\n",
    "    \n",
    "    # A un partido podemos pedirle su clave pública dados un generador g y un módulo p.\n",
    "    def calculate_public_key(self, g, p):\n",
    "        # P_A = g^a mod p ó\n",
    "        # P_B = g^b mod p\n",
    "        return(g ** self.__private_key % p)\n",
    "    \n",
    "    # Si conocemos la clave pública del otro partido podemos conocer el secreto compartido.\n",
    "    def assign_shared_secret(self, others_public_key, p):\n",
    "        # S = B^a mod p ó\n",
    "        # S = A^b mod p\n",
    "        self.__shared_key = others_public_key ** self.__private_key % p\n",
    "    \n",
    "    # Si tenemos un secreto compartido, podemos cifrar y entregar el mensaje cifrado.\n",
    "    # Si aún no tenemos un secreto compartido, el mensaje cifrado es vacío.\n",
    "    # Este cifrado es simple y potencialmente vulnerable, pero un cifrado robusto no es nuestro enfoque del momento,\n",
    "    # por lo pronto, solo interesa que el cifrado es simétrico.\n",
    "    def give_cypher(self):\n",
    "        outward_cypher = \"\"\n",
    "        if self.__shared_key:\n",
    "            for char in self.__message:\n",
    "                outward_cypher += chr(ord(char)+self.__shared_key)\n",
    "        return(outward_cypher)\n",
    "    \n",
    "    # Dado un cifrado público, probamos descifrarlo con el secreto compartido.\n",
    "    def decypher(self, inward_cypher):\n",
    "        message = \"\"\n",
    "        for char in inward_cypher:\n",
    "            message += chr(ord(char)-self.__shared_key)\n",
    "        return(message)"
   ]
  },
  {
   "cell_type": "markdown",
   "metadata": {},
   "source": [
    "Recordemos de programación orientada a objetos que una clase es analoga a un molde, donde esta define las características que puede tener una instancia de esta (objeto). Definimos ahora las instancias Alice y Bob."
   ]
  },
  {
   "cell_type": "code",
   "execution_count": 24,
   "metadata": {},
   "outputs": [
    {
     "name": "stdout",
     "output_type": "stream",
     "text": [
      "Ingrese una llave privada, a, para Alice: 5\n",
      "Ingrese una llave privada, b, para Bob: 7\n",
      "Solo Alice puede saber su clave privada.\n"
     ]
    }
   ],
   "source": [
    "# Definimos dos instancias de Partido, Alice y Bob.\n",
    "# Por ejemplo, podemos usar a = 5 y b = 7\n",
    "Alice = Partido(int(input(\"Ingrese una llave privada, a, para Alice: \")),\n",
    "               \"All the best people are.\")\n",
    "Bob = Partido(int(input(\"Ingrese una llave privada, b, para Bob: \")),\n",
    "             \"Have I gone mad?\")\n",
    "\n",
    "# Note que Alice y Bob tienen variables protegidas.\n",
    "# Pedirle a Python explicitamente un resultado como Alice.__private_key falla.\n",
    "try:\n",
    "  print(Alice.__private_key)\n",
    "except:\n",
    "  print(\"Solo Alice puede saber su clave privada.\")"
   ]
  },
  {
   "cell_type": "markdown",
   "metadata": {},
   "source": [
    "Ya que definimos los dos partidos entre los cuales debemos establecer un canal de comunicación seguro, podemos asignar variables públicas al problema. Específicamente, $g$ y $p$. Una vez tenemos estos valores establecidos, podemos pedirle a las partes que concedan su clave pública, $g^{a} \\mod p$ y $g^{b} \\mod p$."
   ]
  },
  {
   "cell_type": "code",
   "execution_count": 17,
   "metadata": {},
   "outputs": [
    {
     "name": "stdout",
     "output_type": "stream",
     "text": [
      "Las claves públicas de Alice y Bob son 991 y 191, respectivamente.\n"
     ]
    }
   ],
   "source": [
    "# Recordemos que p debe ser un primo muy grande y g un entero menor a p.\n",
    "# p > a,b\n",
    "# Utilicemos, por lo pronto, p = 1001 y g = 9.\n",
    "p = 1001\n",
    "g = 9\n",
    "\n",
    "# Le pedimos ahora a las partes sus claves públicas\n",
    "P_A = Alice.calculate_public_key(g, p)\n",
    "P_B = Bob.calculate_public_key(g, p)\n",
    "\n",
    "print(f\"Las claves públicas de Alice y Bob son {P_A} y {P_B}, respectivamente.\")"
   ]
  },
  {
   "cell_type": "markdown",
   "metadata": {},
   "source": [
    "Una vez establecidas la claves públicas, puede cada partido calcular un secreto, evaluaremos si el secreto es el mismo para ambos, si pueden desencriptar el mensaje cifrado del otro."
   ]
  },
  {
   "cell_type": "code",
   "execution_count": 21,
   "metadata": {},
   "outputs": [
    {
     "name": "stdout",
     "output_type": "stream",
     "text": [
      "El mensaje cifrado de Alice es: РыыϿѓчфϿсфђѓϿяфюяыфϿрёфЍ\n",
      "El mensaje cifrado de Bob es: ЧрѕфϿШϿцюэфϿьруО\n"
     ]
    }
   ],
   "source": [
    "# Cada partido calcula el secreto compartido a partir de la clave pública del otro.\n",
    "Alice.assign_shared_secret(P_B, p)\n",
    "Bob.assign_shared_secret(P_A, p)\n",
    "\n",
    "# Liberamos los mensajes de cada partido, cifrados. Estos son de acceso público.\n",
    "M_A = Alice.give_cypher()\n",
    "M_B = Bob.give_cypher()\n",
    "\n",
    "print(f\"El mensaje cifrado de Alice es: {M_A}\")\n",
    "print(f\"El mensaje cifrado de Bob es: {M_B}\")"
   ]
  },
  {
   "cell_type": "markdown",
   "metadata": {},
   "source": [
    "¡Cada partido toma ahora el mensaje cifrado del otro y lo publica! Este usualmente no es el caso, pero lo haremos ahora para validar que el sistema de encripción funciona."
   ]
  },
  {
   "cell_type": "code",
   "execution_count": 22,
   "metadata": {},
   "outputs": [
    {
     "name": "stdout",
     "output_type": "stream",
     "text": [
      "Alice dice que el mensaje de Bob es: 'Have I gone mad?'\n",
      "Bob dice que el mensaje de Alice es: 'All the best people are.'\n"
     ]
    }
   ],
   "source": [
    "# Alice decifra el mensaje de Bob\n",
    "print(f\"Alice dice que el mensaje de Bob es: '{Alice.decypher(M_B)}'\")\n",
    "\n",
    "# Bob decifra el mensaje de Alice\n",
    "print(f\"Bob dice que el mensaje de Alice es: '{Bob.decypher(M_A)}'\")"
   ]
  },
  {
   "cell_type": "markdown",
   "metadata": {},
   "source": [
    "¡Enhoabuena! Alice y Bob lograron intercambiar mensajes sin publicarlos y sin haberse tenido que reunir para establecer una clave simétrica. Confirmamos, dadas las condiciones, la seguridad en la implementación del protocolo de intercambio de llaves.\n",
    "\n",
    "Reto adicional: ¿Como implementamos autenticación en este esquema? Piense en pares de llaves y en encriptación asimétrica."
   ]
  }
 ],
 "metadata": {
  "kernelspec": {
   "display_name": "Python 3",
   "language": "python",
   "name": "python3"
  },
  "language_info": {
   "codemirror_mode": {
    "name": "ipython",
    "version": 3
   },
   "file_extension": ".py",
   "mimetype": "text/x-python",
   "name": "python",
   "nbconvert_exporter": "python",
   "pygments_lexer": "ipython3",
   "version": "3.7.9"
  }
 },
 "nbformat": 4,
 "nbformat_minor": 4
}
